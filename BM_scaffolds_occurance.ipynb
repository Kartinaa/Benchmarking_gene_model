{
 "cells": [
  {
   "cell_type": "markdown",
   "metadata": {},
   "source": [
    "Example usage for examining BM scaffolds occurance of compounds of interests in ZINC20:"
   ]
  },
  {
   "cell_type": "code",
   "execution_count": 1,
   "metadata": {},
   "outputs": [
    {
     "ename": "",
     "evalue": "",
     "output_type": "error",
     "traceback": [
      "\u001b[1;31mThe Kernel crashed while executing code in the current cell or a previous cell. \n",
      "\u001b[1;31mPlease review the code in the cell(s) to identify a possible cause of the failure. \n",
      "\u001b[1;31mClick <a href='https://aka.ms/vscodeJupyterKernelCrash'>here</a> for more info. \n",
      "\u001b[1;31mView Jupyter <a href='command:jupyter.viewOutput'>log</a> for further details."
     ]
    }
   ],
   "source": [
    "from BMScaffoldMatcher import BMScaffoldMatcher\n",
    "matcher = BMScaffoldMatcher('data/combined_BM_scaffolds_ZINC20_unique.smi')"
   ]
  },
  {
   "cell_type": "code",
   "execution_count": null,
   "metadata": {},
   "outputs": [],
   "source": [
    "# df = matcher.process('some_input.smi', is_file=True)\n",
    "# # for a single SMILES:\n",
    "# df = matcher.process('CCO', is_file=False)\n",
    "# # for a list of SMILES:\n",
    "# df = matcher.process(['CCO', 'c1ccccc1'], is_file=False)\n",
    "# # for a list of (SMILES, title) tuples:\n",
    "# df = matcher.process([('CCO', 'ethanol'), ('c1ccccc1', 'benzene')], is_file=False) "
   ]
  }
 ],
 "metadata": {
  "kernelspec": {
   "display_name": "cheminfo",
   "language": "python",
   "name": "python3"
  },
  "language_info": {
   "codemirror_mode": {
    "name": "ipython",
    "version": 3
   },
   "file_extension": ".py",
   "mimetype": "text/x-python",
   "name": "python",
   "nbconvert_exporter": "python",
   "pygments_lexer": "ipython3",
   "version": "3.11.9"
  }
 },
 "nbformat": 4,
 "nbformat_minor": 2
}
